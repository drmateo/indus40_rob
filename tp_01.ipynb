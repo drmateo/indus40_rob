{
 "cells": [
  {
   "cell_type": "markdown",
   "id": "f6ddf7be",
   "metadata": {},
   "source": [
    "\n",
    "# TP01 — Geometric Transformations in 2D & 3D for Robotics\n",
    "\n",
    "**Goals.** Practice rigid transformations in SE(2)/SE(3), compare rotation parameterizations (Euler/RPY vs quaternions vs axis–angle), and apply them to a simple 3-link robot.\n",
    "\n",
    "> This notebook follows the exercise brief provided (GEII3 — Industrie 4.0: Robotique). It mixes manual derivations (to be written by you) with executable code, plots, assertions, and short analyses.  \n",
    "> **Estimated time:** ~2 hours.  \n",
    "> **Requirements:** `numpy`, `matplotlib`. Optional: `spatialmath`, `roboticstoolbox-python`.\n",
    "\n",
    "**How to use this notebook**  \n",
    "- Run the *Setup* cell first.  \n",
    "- Fill in the **Your derivation** sections (LaTeX/Markdown) where indicated.  \n",
    "- Execute each code cell, check asserts, and answer the analysis prompts.\n"
   ]
  },
  {
   "cell_type": "markdown",
   "id": "328a056c",
   "metadata": {},
   "source": [
    "## Setup\n",
    "In orther to validate your code. You can install the RTB package with the spatialmath package.\n",
    "This will provide you with a higher-level SE(2)/SE(3) utilities."
   ]
  },
  {
   "cell_type": "code",
   "execution_count": null,
   "id": "87b1bad0",
   "metadata": {},
   "outputs": [],
   "source": [
    "# Uncomment to install locally (may take a minute):\n",
    "# !pip -q install spatialmath-python roboticstoolbox-python\n",
    "\n",
    "import numpy as np\n",
    "import math\n",
    "import matplotlib.pyplot as plt\n",
    "from math import cos, sin\n",
    "\n",
    "np.set_printoptions(precision=4, suppress=True)\n"
   ]
  },
  {
   "cell_type": "markdown",
   "id": "568b7336",
   "metadata": {},
   "source": [
    "### Helper functions"
   ]
  },
  {
   "cell_type": "code",
   "execution_count": null,
   "id": "67a4c78d",
   "metadata": {},
   "outputs": [],
   "source": [
    "def R2(theta):\n",
    "    c, s = np.cos(theta), np.sin(theta)\n",
    "    return np.array([[c, -s], [s, c]])\n",
    "\n",
    "# EOF"
   ]
  },
  {
   "cell_type": "markdown",
   "id": "88746bbe",
   "metadata": {},
   "source": [
    "\n",
    "## Section 1 — Transformations in 2D (SE(2))\n",
    "\n",
    "### 1.a Basic rotations & translations, composition\n",
    "**Task.** Derive by hand the rotation matrix for $\theta=45^\\circ$ and the transform $T = T_t\\,T_R$ for $t=[2,3]^T$. Then transform $P=(1,0)$ and verify $\\det(R)=1$.\n",
    "\n",
    "> **Your derivation (insert LaTeX/Markdown here):**\n",
    "\n",
    "\n",
    "\n",
    "\n",
    "\n",
    "\n",
    "\n"
   ]
  },
  {
   "cell_type": "code",
   "execution_count": null,
   "id": "49a48fe5",
   "metadata": {},
   "outputs": [],
   "source": [
    "\n",
    "# Numerical check for 1.a\n",
    "th = np.deg2rad(45)\n"
   ]
  },
  {
   "cell_type": "markdown",
   "id": "f4bc1182",
   "metadata": {},
   "source": [
    "\n",
    "### 1.b Compare manual vs code\n",
    "Explain briefly why homogeneous coordinates make compositions simple (matrix multiplication, associativity).  \n",
    "> **Your analysis:**\n"
   ]
  },
  {
   "cell_type": "markdown",
   "id": "95440245",
   "metadata": {},
   "source": [
    "### 1.c Apply to a polygon (triangle) and visualize"
   ]
  },
  {
   "cell_type": "code",
   "execution_count": null,
   "id": "9d0ce7e6",
   "metadata": {},
   "outputs": [],
   "source": [
    "triangle = np.array([[0, 0], [1, 0], [0.5, 1], [0, 0]]).T  # 2x4\n",
    "#... rest of your code ..."
   ]
  },
  {
   "cell_type": "markdown",
   "id": "12c02735",
   "metadata": {},
   "source": [
    "\n",
    "### 2. Composition & inverses in SE(2)\n",
    "**Task.** Given $T_{30}=T_{10}T_{21}T_{32}$, derive $T_{03}=T_{30}^{-1}$ and verify $T_{30}T_{03}=I$.  \n",
    "Show non-commutativity with a simple counterexample and discuss its impact on odometry.\n",
    "\n",
    "> **Your derivation:**\n"
   ]
  },
  {
   "cell_type": "code",
   "execution_count": null,
   "id": "650de178",
   "metadata": {},
   "outputs": [],
   "source": [
    "\n",
    "# Code verification for 2.\n",
    "#... your code  ..."
   ]
  },
  {
   "cell_type": "markdown",
   "id": "c3f226da",
   "metadata": {},
   "source": [
    "\n",
    "## Section 2 — Transformations in 3D (SO(3)/SE(3))\n",
    "\n",
    "### 3. Rotations with Euler/RPY and Quaternions\n",
    "**Task.** Derive $R=R_z(\\psi)R_y(\theta)R_x(\\phi)$ (ZYX), compute equivalent quaternion $q$, and verify $\\|q\\|=1$. Demonstrate gimbal lock for pitch $=\\pm 90^\\circ$.\n",
    "\n",
    "> **Your derivation:**\n"
   ]
  },
  {
   "cell_type": "code",
   "execution_count": null,
   "id": "79c52b99",
   "metadata": {},
   "outputs": [],
   "source": [
    "\n",
    "# Numerical example for 3.\n",
    "roll, pitch, yaw = np.deg2rad([20, 30, 40])\n",
    "#... your code  ...\n"
   ]
  },
  {
   "cell_type": "markdown",
   "id": "1d05f75f",
   "metadata": {},
   "source": [
    "\n",
    "### 4. Advanced rotation representations (axis–angle, Euler variants, RPY, 2-vector)\n",
    "**Task.** Convert between representations and verify for axis–angle with $\\mathbf{v}=[0,0,1],\\ \theta=90^\\circ$.\n",
    "\n",
    "> **Your derivation & discussion (minimal vs over-parameterized, singularities):**\n"
   ]
  },
  {
   "cell_type": "code",
   "execution_count": null,
   "id": "44bb671b",
   "metadata": {},
   "outputs": [],
   "source": [
    "\n",
    "# Axis–angle test\n",
    "axis = np.array([0,0,1.0])\n",
    "#... your code  ...\n"
   ]
  },
  {
   "cell_type": "markdown",
   "id": "1837f761",
   "metadata": {},
   "source": [
    "\n",
    "### 4.c Interpolation between rotations\n",
    "Implement interpolation using:  \n",
    "- **SLERP** with quaternions.  \n",
    "- **LERP** in matrix space followed by re-orthonormalization (to show instability).\n",
    "\n",
    "> **Your analysis of numerical stability:**\n"
   ]
  },
  {
   "cell_type": "code",
   "execution_count": null,
   "id": "53db7ab3",
   "metadata": {},
   "outputs": [],
   "source": [
    "\n",
    "# SLERP and naive interpolation demo\n",
    "\n",
    "def slerp(q0, q1, t):\n",
    "    q0 = q0/np.linalg.norm(q0)\n",
    "    q1 = q1/np.linalg.norm(q1)\n",
    "    dot = np.dot(q0, q1)\n",
    "    if dot < 0:  # ensure shortest path\n",
    "        q1 = -q1\n",
    "        dot = -dot\n",
    "    dot = np.clip(dot, -1.0, 1.0)\n",
    "    if dot > 0.9995:\n",
    "        q = q0 + t*(q1-q0)\n",
    "        return q/np.linalg.norm(q)\n",
    "    theta0 = np.arccos(dot)\n",
    "    sin0 = np.sin(theta0)\n",
    "    a = np.sin((1-t)*theta0)/sin0\n",
    "    b = np.sin(t*theta0)/sin0\n",
    "    return a*q0 + b*q1\n",
    "\n",
    "#... your code  ...\n"
   ]
  },
  {
   "cell_type": "markdown",
   "id": "3a75a3c9",
   "metadata": {},
   "source": [
    "\n",
    "## Section 3 — Simple 3‑link planar robot (SE(3), Z-rot + X-translation per link)\n",
    "We model each link as: translate along x by $l_i$, then rotate about $z$ by $q_i$.  \n",
    "Chain: $T = (R_z(q_1)\\,T_x(l_1))(R_z(q_2)\\,T_x(l_2))(R_z(q_3)\\,T_x(l_3))$.\n",
    "\n",
    "**Given:** $q=[0.5,0.3,0.4]$ rad, $l=[0.75,0.75,0.25]$ m.  \n",
    "**Tasks:** derive $T$ by hand, compute end-effector, apply to a point, then explore variations.  \n",
    "> **Your derivation:**\n"
   ]
  },
  {
   "cell_type": "code",
   "execution_count": null,
   "id": "3bcbaf1d",
   "metadata": {},
   "outputs": [],
   "source": [
    "\n",
    "# Utilities for planar 3-link in 3D homogeneous coords\n",
    "\n",
    "def Tx(d):\n",
    "    T = np.eye(4); T[0,3]=d; return T\n",
    "\n",
    "# def joint(q, l):\n",
    "#     return T3(Rz(q), [0,0,0]) @ Tx(l)\n",
    "\n",
    "q = np.array([0.5, 0.3, 0.4])\n",
    "l = np.array([0.75, 0.75, 0.25])\n",
    "\n",
    "#... your code  ...\n"
   ]
  },
  {
   "cell_type": "markdown",
   "id": "802ffee9",
   "metadata": {},
   "source": [
    "\n",
    "### 5.c Base/tool offsets & workspace sampling\n",
    "Add a base transform or tool offset and sample random joint angles to visualize the reachable set (projection on XY).\n"
   ]
  },
  {
   "cell_type": "code",
   "execution_count": null,
   "id": "2b64b371",
   "metadata": {},
   "outputs": [],
   "source": [
    "\n",
    "# Workspace sampling\n",
    "#... your code  ...\n"
   ]
  },
  {
   "cell_type": "markdown",
   "id": "bb722d81",
   "metadata": {},
   "source": [
    "\n",
    "---\n",
    "## Submission checklist\n",
    "- [ ] All code cells run without errors; asserts pass.  \n",
    "- [ ] Plots have titles/labels; brief analyses written.  \n",
    "- [ ] Manual derivations included where requested.  \n",
    "- [ ] Bonus: integrative summary connecting the math to robotics.\n",
    "\n",
    "> **Grading reminder (from brief):** Technical correctness (40%), Conceptual understanding (30%), Visualization & analysis (20%), Creativity (10%).\n"
   ]
  }
 ],
 "metadata": {
  "language_info": {
   "name": "python"
  }
 },
 "nbformat": 4,
 "nbformat_minor": 5
}
